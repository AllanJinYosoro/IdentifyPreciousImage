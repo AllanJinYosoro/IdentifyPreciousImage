{
 "cells": [
  {
   "cell_type": "markdown",
   "metadata": {},
   "source": [
    "- pre-process images\n",
    "- extract features\n",
    "- group images with high similarity taking into account the goodness of the clustering"
   ]
  },
  {
   "cell_type": "markdown",
   "metadata": {},
   "source": [
    "Force to K clusters\n",
    "```\n",
    "# Set to 5 clusters\n",
    "labels = cl.cluster(min_clust=5, max_clust=5)\n",
    "\n",
    "# Check number of clusters\n",
    "len(np.unique(cl.results['labels']))\n",
    "# 5\n",
    "\n",
    "# Scatter\n",
    "cl.scatter(dotsize=75)\n",
    "# Create dendrogram\n",
    "cl.dendrogram();\n",
    "```"
   ]
  },
  {
   "cell_type": "markdown",
   "metadata": {},
   "source": [
    "函数参数\n",
    "clustNum : 输出unique图片个数 (cluster个数)\n",
    "\n",
    "函数输出 : list形式，包含clustNum个图片的名称"
   ]
  },
  {
   "cell_type": "code",
   "execution_count": 7,
   "metadata": {},
   "outputs": [],
   "source": [
    "#! pip install clustimage\n",
    "from clustimage import Clustimage\n",
    "import os \n",
    "\n",
    "def cluster_N_unique_image(clustNum = 45):\n",
    "    # Initialize\n",
    "    cl = Clustimage(method='pca-hog',\n",
    "                    embedding='tsne',\n",
    "                    grayscale=False,\n",
    "                    dim=(128,128),\n",
    "                    params_pca={'n_components':0.95})\n",
    "\n",
    "    # Import data by \"path to directory\"\n",
    "    X = cl.import_data(r'D:\\\\2023FALL\\\\2-2人工智能导论\\\\大作业\\\\Project\\\\IdentifyPreciousImage\\\\ClusterImage\\\\rawdata')\n",
    "\n",
    "    # Preprocessing, feature extraction, embedding and cluster evaluation\n",
    "    results = cl.fit_transform(X,cluster='agglomerative',\n",
    "                    evaluate='silhouette',\n",
    "                    metric='euclidean',\n",
    "                    linkage='ward',\n",
    "                    cluster_space='high',\n",
    "                    min_clust = clustNum,\n",
    "                    max_clust = clustNum,\n",
    "                    )\n",
    "\n",
    "    # Get the unique detected images (in dict)\n",
    "    uniqueImage = cl.results_unique\n",
    "\n",
    "    # return 'pathnames' from uniqueImage and transform to list\n",
    "    uniqueImage_path = uniqueImage['pathnames']\n",
    "\n",
    "\n",
    "    return uniqueImage_path\n"
   ]
  },
  {
   "cell_type": "code",
   "execution_count": 6,
   "metadata": {},
   "outputs": [
    {
     "name": "stderr",
     "output_type": "stream",
     "text": [
      "[clustimage] >WARNING> Parameter grayscale is set to True because you are using method=\"pca-hog\"\n",
      "[clustimage] >INFO> filepath is set to [C:\\Users\\防锈油油\\AppData\\Local\\Temp\\clustimage]\n",
      "[clustimage] >INFO> filepath is set to [C:\\Users\\防锈油油\\AppData\\Local\\Temp\\clustimage]\n",
      "[clustimage] >INFO> filepath is set to [C:\\Users\\防锈油油\\AppData\\Local\\Temp\\clustimage]\n",
      "[clustimage] >INFO> Extracting images from: [D:\\2023FALL\\2-2人工智能导论\\大作业\\fxy]\n",
      "[clustimage] >INFO> [0] files are collected recursively from path: [D:\\2023FALL\\2-2人工智能导论\\大作业\\fxy]\n",
      "[clustimage] >INFO> [0] images are extracted.\n",
      "[clustimage] >INFO> Reading and checking images.\n",
      "[clustimage] >INFO> Cleaning previous fitted model results\n",
      "[clustimage] >INFO> Reading and checking images.\n",
      "[clustimage] >INFO> Skipping import because import is already performed outside the fit_transform()\n",
      "[clustimage] >INFO> Extracting features using method: [pca-hog]\n"
     ]
    },
    {
     "ename": "AttributeError",
     "evalue": "'list' object has no attribute 'shape'",
     "output_type": "error",
     "traceback": [
      "\u001b[1;31m---------------------------------------------------------------------------\u001b[0m",
      "\u001b[1;31mAttributeError\u001b[0m                            Traceback (most recent call last)",
      "Cell \u001b[1;32mIn[6], line 1\u001b[0m\n\u001b[1;32m----> 1\u001b[0m pending_label_images \u001b[38;5;241m=\u001b[39m \u001b[43mcluster_N_unique_image\u001b[49m\u001b[43m(\u001b[49m\u001b[43m)\u001b[49m\n\u001b[0;32m      2\u001b[0m pending_label_images\n",
      "Cell \u001b[1;32mIn[5], line 17\u001b[0m, in \u001b[0;36mcluster_N_unique_image\u001b[1;34m(clustNum)\u001b[0m\n\u001b[0;32m     14\u001b[0m X \u001b[38;5;241m=\u001b[39m cl\u001b[38;5;241m.\u001b[39mimport_data(\u001b[38;5;124mr\u001b[39m\u001b[38;5;124m'\u001b[39m\u001b[38;5;124mD:\u001b[39m\u001b[38;5;124m\\\u001b[39m\u001b[38;5;124m2023FALL\u001b[39m\u001b[38;5;124m\\\u001b[39m\u001b[38;5;124m2-2人工智能导论\u001b[39m\u001b[38;5;124m\\\u001b[39m\u001b[38;5;124m大作业\u001b[39m\u001b[38;5;124m\\\u001b[39m\u001b[38;5;124mfxy\u001b[39m\u001b[38;5;124m'\u001b[39m)\n\u001b[0;32m     16\u001b[0m \u001b[38;5;66;03m# Preprocessing, feature extraction, embedding and cluster evaluation\u001b[39;00m\n\u001b[1;32m---> 17\u001b[0m results \u001b[38;5;241m=\u001b[39m \u001b[43mcl\u001b[49m\u001b[38;5;241;43m.\u001b[39;49m\u001b[43mfit_transform\u001b[49m\u001b[43m(\u001b[49m\u001b[43mX\u001b[49m\u001b[43m,\u001b[49m\u001b[43mcluster\u001b[49m\u001b[38;5;241;43m=\u001b[39;49m\u001b[38;5;124;43m'\u001b[39;49m\u001b[38;5;124;43magglomerative\u001b[39;49m\u001b[38;5;124;43m'\u001b[39;49m\u001b[43m,\u001b[49m\n\u001b[0;32m     18\u001b[0m \u001b[43m                \u001b[49m\u001b[43mevaluate\u001b[49m\u001b[38;5;241;43m=\u001b[39;49m\u001b[38;5;124;43m'\u001b[39;49m\u001b[38;5;124;43msilhouette\u001b[39;49m\u001b[38;5;124;43m'\u001b[39;49m\u001b[43m,\u001b[49m\n\u001b[0;32m     19\u001b[0m \u001b[43m                \u001b[49m\u001b[43mmetric\u001b[49m\u001b[38;5;241;43m=\u001b[39;49m\u001b[38;5;124;43m'\u001b[39;49m\u001b[38;5;124;43meuclidean\u001b[39;49m\u001b[38;5;124;43m'\u001b[39;49m\u001b[43m,\u001b[49m\n\u001b[0;32m     20\u001b[0m \u001b[43m                \u001b[49m\u001b[43mlinkage\u001b[49m\u001b[38;5;241;43m=\u001b[39;49m\u001b[38;5;124;43m'\u001b[39;49m\u001b[38;5;124;43mward\u001b[39;49m\u001b[38;5;124;43m'\u001b[39;49m\u001b[43m,\u001b[49m\n\u001b[0;32m     21\u001b[0m \u001b[43m                \u001b[49m\u001b[43mcluster_space\u001b[49m\u001b[38;5;241;43m=\u001b[39;49m\u001b[38;5;124;43m'\u001b[39;49m\u001b[38;5;124;43mhigh\u001b[39;49m\u001b[38;5;124;43m'\u001b[39;49m\u001b[43m,\u001b[49m\n\u001b[0;32m     22\u001b[0m \u001b[43m                \u001b[49m\u001b[43mmin_clust\u001b[49m\u001b[43m \u001b[49m\u001b[38;5;241;43m=\u001b[39;49m\u001b[43m \u001b[49m\u001b[43mclustNum\u001b[49m\u001b[43m,\u001b[49m\n\u001b[0;32m     23\u001b[0m \u001b[43m                \u001b[49m\u001b[43mmax_clust\u001b[49m\u001b[43m \u001b[49m\u001b[38;5;241;43m=\u001b[39;49m\u001b[43m \u001b[49m\u001b[43mclustNum\u001b[49m\u001b[43m,\u001b[49m\n\u001b[0;32m     24\u001b[0m \u001b[43m                \u001b[49m\u001b[43m)\u001b[49m\n\u001b[0;32m     26\u001b[0m \u001b[38;5;66;03m# Get the unique detected images (in dict)\u001b[39;00m\n\u001b[0;32m     27\u001b[0m uniqueImage \u001b[38;5;241m=\u001b[39m cl\u001b[38;5;241m.\u001b[39mresults_unique\n",
      "File \u001b[1;32mD:\\anaconda3\\lib\\site-packages\\clustimage\\clustimage.py:351\u001b[0m, in \u001b[0;36mClustimage.fit_transform\u001b[1;34m(self, X, cluster, evaluate, metric, linkage, min_clust, max_clust, cluster_space, black_list)\u001b[0m\n\u001b[0;32m    349\u001b[0m _ \u001b[38;5;241m=\u001b[39m \u001b[38;5;28mself\u001b[39m\u001b[38;5;241m.\u001b[39mimport_data(X, black_list\u001b[38;5;241m=\u001b[39mblack_list)\n\u001b[0;32m    350\u001b[0m \u001b[38;5;66;03m# Extract features using method\u001b[39;00m\n\u001b[1;32m--> 351\u001b[0m _ \u001b[38;5;241m=\u001b[39m \u001b[38;5;28;43mself\u001b[39;49m\u001b[38;5;241;43m.\u001b[39;49m\u001b[43mextract_feat\u001b[49m\u001b[43m(\u001b[49m\u001b[38;5;28;43mself\u001b[39;49m\u001b[38;5;241;43m.\u001b[39;49m\u001b[43mresults\u001b[49m\u001b[43m)\u001b[49m\n\u001b[0;32m    352\u001b[0m \u001b[38;5;66;03m# Embedding\u001b[39;00m\n\u001b[0;32m    353\u001b[0m _ \u001b[38;5;241m=\u001b[39m \u001b[38;5;28mself\u001b[39m\u001b[38;5;241m.\u001b[39membedding(\u001b[38;5;28mself\u001b[39m\u001b[38;5;241m.\u001b[39mresults[\u001b[38;5;124m'\u001b[39m\u001b[38;5;124mfeat\u001b[39m\u001b[38;5;124m'\u001b[39m], metric\u001b[38;5;241m=\u001b[39mmetric)\n",
      "File \u001b[1;32mD:\\anaconda3\\lib\\site-packages\\clustimage\\clustimage.py:1126\u001b[0m, in \u001b[0;36mClustimage.extract_feat\u001b[1;34m(self, Xraw)\u001b[0m\n\u001b[0;32m   1124\u001b[0m \u001b[38;5;28;01melif\u001b[39;00m \u001b[38;5;28mself\u001b[39m\u001b[38;5;241m.\u001b[39mparams[\u001b[38;5;124m'\u001b[39m\u001b[38;5;124mmethod\u001b[39m\u001b[38;5;124m'\u001b[39m]\u001b[38;5;241m==\u001b[39m\u001b[38;5;124m'\u001b[39m\u001b[38;5;124mpca-hog\u001b[39m\u001b[38;5;124m'\u001b[39m:\n\u001b[0;32m   1125\u001b[0m     Xfeat \u001b[38;5;241m=\u001b[39m {}\n\u001b[1;32m-> 1126\u001b[0m     Xfeat[\u001b[38;5;124m'\u001b[39m\u001b[38;5;124mimg\u001b[39m\u001b[38;5;124m'\u001b[39m] \u001b[38;5;241m=\u001b[39m \u001b[38;5;28;43mself\u001b[39;49m\u001b[38;5;241;43m.\u001b[39;49m\u001b[43mextract_hog\u001b[49m\u001b[43m(\u001b[49m\u001b[43mXraw\u001b[49m\u001b[43m[\u001b[49m\u001b[38;5;124;43m'\u001b[39;49m\u001b[38;5;124;43mimg\u001b[39;49m\u001b[38;5;124;43m'\u001b[39;49m\u001b[43m]\u001b[49m\u001b[43m,\u001b[49m\u001b[43m \u001b[49m\u001b[43morientations\u001b[49m\u001b[38;5;241;43m=\u001b[39;49m\u001b[38;5;28;43mself\u001b[39;49m\u001b[38;5;241;43m.\u001b[39;49m\u001b[43mparams_hog\u001b[49m\u001b[43m[\u001b[49m\u001b[38;5;124;43m'\u001b[39;49m\u001b[38;5;124;43morientations\u001b[39;49m\u001b[38;5;124;43m'\u001b[39;49m\u001b[43m]\u001b[49m\u001b[43m,\u001b[49m\u001b[43m \u001b[49m\u001b[43mpixels_per_cell\u001b[49m\u001b[38;5;241;43m=\u001b[39;49m\u001b[38;5;28;43mself\u001b[39;49m\u001b[38;5;241;43m.\u001b[39;49m\u001b[43mparams_hog\u001b[49m\u001b[43m[\u001b[49m\u001b[38;5;124;43m'\u001b[39;49m\u001b[38;5;124;43mpixels_per_cell\u001b[39;49m\u001b[38;5;124;43m'\u001b[39;49m\u001b[43m]\u001b[49m\u001b[43m,\u001b[49m\u001b[43m \u001b[49m\u001b[43mcells_per_block\u001b[49m\u001b[38;5;241;43m=\u001b[39;49m\u001b[38;5;28;43mself\u001b[39;49m\u001b[38;5;241;43m.\u001b[39;49m\u001b[43mparams_hog\u001b[49m\u001b[43m[\u001b[49m\u001b[38;5;124;43m'\u001b[39;49m\u001b[38;5;124;43mcells_per_block\u001b[39;49m\u001b[38;5;124;43m'\u001b[39;49m\u001b[43m]\u001b[49m\u001b[43m)\u001b[49m\n\u001b[0;32m   1127\u001b[0m     Xfeat[\u001b[38;5;124m'\u001b[39m\u001b[38;5;124mfilenames\u001b[39m\u001b[38;5;124m'\u001b[39m] \u001b[38;5;241m=\u001b[39m Xraw[\u001b[38;5;124m'\u001b[39m\u001b[38;5;124mfilenames\u001b[39m\u001b[38;5;124m'\u001b[39m]\n\u001b[0;32m   1128\u001b[0m     Xfeat \u001b[38;5;241m=\u001b[39m \u001b[38;5;28mself\u001b[39m\u001b[38;5;241m.\u001b[39mextract_pca(Xfeat)\n",
      "File \u001b[1;32mD:\\anaconda3\\lib\\site-packages\\clustimage\\clustimage.py:876\u001b[0m, in \u001b[0;36mClustimage.extract_hog\u001b[1;34m(self, X, orientations, pixels_per_cell, cells_per_block, flatten)\u001b[0m\n\u001b[0;32m    834\u001b[0m \u001b[38;5;250m\u001b[39m\u001b[38;5;124;03m\"\"\"Extract HOG features.\u001b[39;00m\n\u001b[0;32m    835\u001b[0m \n\u001b[0;32m    836\u001b[0m \u001b[38;5;124;03mParameters\u001b[39;00m\n\u001b[1;32m   (...)\u001b[0m\n\u001b[0;32m    870\u001b[0m \n\u001b[0;32m    871\u001b[0m \u001b[38;5;124;03m\"\"\"\u001b[39;00m\n\u001b[0;32m    872\u001b[0m \u001b[38;5;66;03m# Must be flattend array\u001b[39;00m\n\u001b[0;32m    873\u001b[0m \u001b[38;5;66;03m# if len(X.shape)>1:\u001b[39;00m\n\u001b[0;32m    874\u001b[0m \u001b[38;5;66;03m# raise Exception(logger.error('Input must be flattend grayscale image. Hint: During init set \"grayscale=True\" or imread(colorscale=0, flatten=True)'))\u001b[39;00m\n\u001b[0;32m    875\u001b[0m \u001b[38;5;66;03m# If 1D-vector, make 2D-array\u001b[39;00m\n\u001b[1;32m--> 876\u001b[0m \u001b[38;5;28;01mif\u001b[39;00m \u001b[38;5;28mlen\u001b[39m(\u001b[43mX\u001b[49m\u001b[38;5;241;43m.\u001b[39;49m\u001b[43mshape\u001b[49m)\u001b[38;5;241m==\u001b[39m\u001b[38;5;241m1\u001b[39m:\n\u001b[0;32m    877\u001b[0m     X \u001b[38;5;241m=\u001b[39m X\u001b[38;5;241m.\u001b[39mreshape(\u001b[38;5;241m-\u001b[39m\u001b[38;5;241m1\u001b[39m, \u001b[38;5;241m1\u001b[39m)\u001b[38;5;241m.\u001b[39mT\n\u001b[0;32m    879\u001b[0m \u001b[38;5;66;03m# Set dim correctly for reshaping image\u001b[39;00m\n",
      "\u001b[1;31mAttributeError\u001b[0m: 'list' object has no attribute 'shape'"
     ]
    }
   ],
   "source": [
    "pending_label_images = cluster_N_unique_image()\n",
    "pending_label_images"
   ]
  },
  {
   "cell_type": "code",
   "execution_count": 10,
   "metadata": {},
   "outputs": [
    {
     "ename": "FileNotFoundError",
     "evalue": "[Errno 2] No such file or directory: 'D'",
     "output_type": "error",
     "traceback": [
      "\u001b[1;31m---------------------------------------------------------------------------\u001b[0m",
      "\u001b[1;31mFileNotFoundError\u001b[0m                         Traceback (most recent call last)",
      "File \u001b[1;32mD:\\anaconda3\\lib\\shutil.py:814\u001b[0m, in \u001b[0;36mmove\u001b[1;34m(src, dst, copy_function)\u001b[0m\n\u001b[0;32m    813\u001b[0m \u001b[38;5;28;01mtry\u001b[39;00m:\n\u001b[1;32m--> 814\u001b[0m     \u001b[43mos\u001b[49m\u001b[38;5;241;43m.\u001b[39;49m\u001b[43mrename\u001b[49m\u001b[43m(\u001b[49m\u001b[43msrc\u001b[49m\u001b[43m,\u001b[49m\u001b[43m \u001b[49m\u001b[43mreal_dst\u001b[49m\u001b[43m)\u001b[49m\n\u001b[0;32m    815\u001b[0m \u001b[38;5;28;01mexcept\u001b[39;00m \u001b[38;5;167;01mOSError\u001b[39;00m:\n",
      "\u001b[1;31mFileNotFoundError\u001b[0m: [WinError 2] 系统找不到指定的文件。: 'D' -> 'D:\\\\2023FALL\\\\2-2人工智能导论\\\\大作业\\\\Project\\\\IdentifyPreciousImage\\\\ClusterImage\\\\rawdata\\\\lb\\\\D'",
      "\nDuring handling of the above exception, another exception occurred:\n",
      "\u001b[1;31mFileNotFoundError\u001b[0m                         Traceback (most recent call last)",
      "Cell \u001b[1;32mIn[10], line 25\u001b[0m\n\u001b[0;32m     23\u001b[0m \u001b[38;5;28;01mfor\u001b[39;00m img_path \u001b[38;5;129;01min\u001b[39;00m pending_label_images:\n\u001b[0;32m     24\u001b[0m     img \u001b[38;5;241m=\u001b[39m Path(img_path)\n\u001b[1;32m---> 25\u001b[0m     \u001b[43mshutil\u001b[49m\u001b[38;5;241;43m.\u001b[39;49m\u001b[43mmove\u001b[49m\u001b[43m(\u001b[49m\u001b[38;5;28;43mstr\u001b[39;49m\u001b[43m(\u001b[49m\u001b[43mimg\u001b[49m\u001b[43m)\u001b[49m\u001b[43m,\u001b[49m\u001b[43m \u001b[49m\u001b[38;5;28;43mstr\u001b[39;49m\u001b[43m(\u001b[49m\u001b[43mlb_dir\u001b[49m\u001b[43m \u001b[49m\u001b[38;5;241;43m/\u001b[39;49m\u001b[43m \u001b[49m\u001b[43mimg\u001b[49m\u001b[38;5;241;43m.\u001b[39;49m\u001b[43mname\u001b[49m\u001b[43m)\u001b[49m\u001b[43m)\u001b[49m\n\u001b[0;32m     27\u001b[0m \u001b[38;5;66;03m# 获取rawdata目录下的所有图片文件\u001b[39;00m\n\u001b[0;32m     28\u001b[0m all_images \u001b[38;5;241m=\u001b[39m \u001b[38;5;28mlist\u001b[39m(rawdata_dir\u001b[38;5;241m.\u001b[39mglob(\u001b[38;5;124m\"\u001b[39m\u001b[38;5;124m*.[jp][np][g]*\u001b[39m\u001b[38;5;124m\"\u001b[39m))  \u001b[38;5;66;03m# 匹配.jpg, .jpeg, .png, .gif等图片文件\u001b[39;00m\n",
      "File \u001b[1;32mD:\\anaconda3\\lib\\shutil.py:834\u001b[0m, in \u001b[0;36mmove\u001b[1;34m(src, dst, copy_function)\u001b[0m\n\u001b[0;32m    832\u001b[0m         rmtree(src)\n\u001b[0;32m    833\u001b[0m     \u001b[38;5;28;01melse\u001b[39;00m:\n\u001b[1;32m--> 834\u001b[0m         \u001b[43mcopy_function\u001b[49m\u001b[43m(\u001b[49m\u001b[43msrc\u001b[49m\u001b[43m,\u001b[49m\u001b[43m \u001b[49m\u001b[43mreal_dst\u001b[49m\u001b[43m)\u001b[49m\n\u001b[0;32m    835\u001b[0m         os\u001b[38;5;241m.\u001b[39munlink(src)\n\u001b[0;32m    836\u001b[0m \u001b[38;5;28;01mreturn\u001b[39;00m real_dst\n",
      "File \u001b[1;32mD:\\anaconda3\\lib\\shutil.py:443\u001b[0m, in \u001b[0;36mcopy2\u001b[1;34m(src, dst, follow_symlinks)\u001b[0m\n\u001b[0;32m    441\u001b[0m \u001b[38;5;28;01mif\u001b[39;00m os\u001b[38;5;241m.\u001b[39mpath\u001b[38;5;241m.\u001b[39misdir(dst):\n\u001b[0;32m    442\u001b[0m     dst \u001b[38;5;241m=\u001b[39m os\u001b[38;5;241m.\u001b[39mpath\u001b[38;5;241m.\u001b[39mjoin(dst, os\u001b[38;5;241m.\u001b[39mpath\u001b[38;5;241m.\u001b[39mbasename(src))\n\u001b[1;32m--> 443\u001b[0m \u001b[43mcopyfile\u001b[49m\u001b[43m(\u001b[49m\u001b[43msrc\u001b[49m\u001b[43m,\u001b[49m\u001b[43m \u001b[49m\u001b[43mdst\u001b[49m\u001b[43m,\u001b[49m\u001b[43m \u001b[49m\u001b[43mfollow_symlinks\u001b[49m\u001b[38;5;241;43m=\u001b[39;49m\u001b[43mfollow_symlinks\u001b[49m\u001b[43m)\u001b[49m\n\u001b[0;32m    444\u001b[0m copystat(src, dst, follow_symlinks\u001b[38;5;241m=\u001b[39mfollow_symlinks)\n\u001b[0;32m    445\u001b[0m \u001b[38;5;28;01mreturn\u001b[39;00m dst\n",
      "File \u001b[1;32mD:\\anaconda3\\lib\\shutil.py:265\u001b[0m, in \u001b[0;36mcopyfile\u001b[1;34m(src, dst, follow_symlinks)\u001b[0m\n\u001b[0;32m    263\u001b[0m \u001b[38;5;28;01melse\u001b[39;00m:\n\u001b[0;32m    264\u001b[0m     \u001b[38;5;28;01mtry\u001b[39;00m:\n\u001b[1;32m--> 265\u001b[0m         \u001b[38;5;28;01mwith\u001b[39;00m \u001b[38;5;28;43mopen\u001b[39;49m\u001b[43m(\u001b[49m\u001b[43msrc\u001b[49m\u001b[43m,\u001b[49m\u001b[43m \u001b[49m\u001b[38;5;124;43m'\u001b[39;49m\u001b[38;5;124;43mrb\u001b[39;49m\u001b[38;5;124;43m'\u001b[39;49m\u001b[43m)\u001b[49m \u001b[38;5;28;01mas\u001b[39;00m fsrc, \u001b[38;5;28mopen\u001b[39m(dst, \u001b[38;5;124m'\u001b[39m\u001b[38;5;124mwb\u001b[39m\u001b[38;5;124m'\u001b[39m) \u001b[38;5;28;01mas\u001b[39;00m fdst:\n\u001b[0;32m    266\u001b[0m             \u001b[38;5;66;03m# macOS\u001b[39;00m\n\u001b[0;32m    267\u001b[0m             \u001b[38;5;28;01mif\u001b[39;00m _HAS_FCOPYFILE:\n\u001b[0;32m    268\u001b[0m                 \u001b[38;5;28;01mtry\u001b[39;00m:\n",
      "\u001b[1;31mFileNotFoundError\u001b[0m: [Errno 2] No such file or directory: 'D'"
     ]
    }
   ],
   "source": [
    "import os\n",
    "import shutil\n",
    "import random\n",
    "from pathlib import Path\n",
    "\n",
    "# 定义rawdata目录\n",
    "rawdata_dir = Path.cwd() / 'rawdata'\n",
    "\n",
    "# 待处理的图片列表\n",
    "pending_label_images = 'D:\\2023FALL\\2-2人工智能导论\\大作业\\Project\\IdentifyPreciousImage\\ClusterImage\\rawdata'  # 这里填入你的图片路径列表\n",
    "\n",
    "# 创建子目录\n",
    "lb_dir = rawdata_dir / 'lb'\n",
    "lb_dir.mkdir(exist_ok=True)\n",
    "\n",
    "ulb_dir = rawdata_dir / 'ulb'\n",
    "ulb_dir.mkdir(exist_ok=True)\n",
    "\n",
    "test_dir = rawdata_dir / 'test'\n",
    "test_dir.mkdir(exist_ok=True)\n",
    "\n",
    "# 移动图片到lb子目录\n",
    "for img_path in pending_label_images:\n",
    "    img = Path(img_path)\n",
    "    shutil.move(str(img), str(lb_dir / img.name))\n",
    "\n",
    "# 获取rawdata目录下的所有图片文件\n",
    "all_images = list(rawdata_dir.glob(\"*.[jp][np][g]*\"))  # 匹配.jpg, .jpeg, .png, .gif等图片文件\n",
    "all_images = [img for img in all_images if str(img) not in pending_label_images]  # 剔除已处理的图片\n",
    "\n",
    "# 随机选择500张图片移动到ulb子目录\n",
    "for img in random.sample(all_images, 500):\n",
    "    shutil.move(str(img), str(ulb_dir / img.name))\n",
    "    all_images.remove(img)  # 从列表中移除已处理的图片\n",
    "\n",
    "# 随机选择50张图片移动到test子目录\n",
    "for img in random.sample(all_images, 50):\n",
    "    shutil.move(str(img), str(test_dir / img.name))\n",
    "\n",
    "print(\"All image files have been moved successfully.\")"
   ]
  }
 ],
 "metadata": {
  "kernelspec": {
   "display_name": "Python 3 (ipykernel)",
   "language": "python",
   "name": "python3"
  },
  "language_info": {
   "codemirror_mode": {
    "name": "ipython",
    "version": 3
   },
   "file_extension": ".py",
   "mimetype": "text/x-python",
   "name": "python",
   "nbconvert_exporter": "python",
   "pygments_lexer": "ipython3",
   "version": "3.9.7"
  }
 },
 "nbformat": 4,
 "nbformat_minor": 2
}
