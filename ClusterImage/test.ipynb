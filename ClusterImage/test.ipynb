{
 "cells": [
  {
   "cell_type": "markdown",
   "metadata": {},
   "source": [
    "- pre-process images\n",
    "- extract features\n",
    "- group images with high similarity taking into account the goodness of the clustering"
   ]
  },
  {
   "cell_type": "markdown",
   "metadata": {},
   "source": [
    "Force to K clusters\n",
    "```\n",
    "# Set to 5 clusters\n",
    "labels = cl.cluster(min_clust=5, max_clust=5)\n",
    "\n",
    "# Check number of clusters\n",
    "len(np.unique(cl.results['labels']))\n",
    "# 5\n",
    "\n",
    "# Scatter\n",
    "cl.scatter(dotsize=75)\n",
    "# Create dendrogram\n",
    "cl.dendrogram();\n",
    "```"
   ]
  },
  {
   "cell_type": "markdown",
   "metadata": {},
   "source": [
    "函数参数\n",
    "clustNum : 输出unique图片个数 (cluster个数)\n",
    "\n",
    "函数输出 : list形式，包含clustNum个图片的名称"
   ]
  },
  {
   "cell_type": "code",
   "execution_count": 1,
   "metadata": {},
   "outputs": [],
   "source": [
    "#! pip install clustimage\n",
    "from clustimage import Clustimage\n",
    "import os \n",
    "\n",
    "def cluster_N_unique_image(clustNum = 45):\n",
    "    # Initialize\n",
    "    cl = Clustimage(method='pca-hog',\n",
    "                    embedding='tsne',\n",
    "                    grayscale=False,\n",
    "                    dim=(128,128),\n",
    "                    params_pca={'n_components':0.95})\n",
    "\n",
    "    # Import data by \"path to directory\"\n",
    "    X = cl.import_data('./rawdata')\n",
    "\n",
    "    # Preprocessing, feature extraction, embedding and cluster evaluation\n",
    "    results = cl.fit_transform(X,cluster='agglomerative',\n",
    "                    evaluate='silhouette',\n",
    "                    metric='euclidean',\n",
    "                    linkage='ward',\n",
    "                    cluster_space='high',\n",
    "                    min_clust = clustNum,\n",
    "                    max_clust = clustNum,\n",
    "                    )\n",
    "\n",
    "    # Get the unique detected images (in dict)\n",
    "    uniqueImage = cl.results_unique\n",
    "\n",
    "    # return 'pathnames' from uniqueImage and transform to list\n",
    "    uniqueImage_path = uniqueImage['pathnames']\n",
    "\n",
    "\n",
    "    return uniqueImage_path"
   ]
  },
  {
   "cell_type": "code",
   "execution_count": 2,
   "metadata": {},
   "outputs": [
    {
     "name": "stderr",
     "output_type": "stream",
     "text": [
      "[clustimage] >WARNING> Parameter grayscale is set to True because you are using method=\"pca-hog\"\n",
      "[clustimage] >INFO> Extracting images from: [./rawdata]\n",
      "[clustimage] >INFO> [2889] files are collected recursively from path: [./rawdata]\n",
      "[clustimage] >INFO> [2889] images are extracted.\n",
      "[clustimage] >INFO> Reading and checking images.\n",
      "[clustimage] >INFO> Reading and checking images.\n",
      "[clustimage]: 100%|██████████| 2889/2889 [00:19<00:00, 147.41it/s]\n",
      "[clustimage] >INFO> Cleaning previous fitted model results\n",
      "[clustimage] >INFO> Reading and checking images.\n",
      "[clustimage] >INFO> Skipping import because import is already performed outside the fit_transform()\n",
      "[clustimage] >INFO> Extracting features using method: [pca-hog]\n",
      "[clustimage]: 100%|██████████| 2889/2889 [02:16<00:00, 21.15it/s]\n",
      "[clustimage] >INFO> Extracted features using [pca-hog]: samples=2889, features=308\n",
      "[clustimage] >INFO> Compute [tsne] embedding\n",
      "Exception in thread Thread-6 (_readerthread):\n",
      "Traceback (most recent call last):\n",
      "  File \"c:\\Users\\Allan\\anaconda3\\Lib\\threading.py\", line 1038, in _bootstrap_inner\n",
      "    self.run()\n",
      "  File \"c:\\Users\\Allan\\anaconda3\\Lib\\threading.py\", line 975, in run\n",
      "    self._target(*self._args, **self._kwargs)\n",
      "  File \"c:\\Users\\Allan\\anaconda3\\Lib\\subprocess.py\", line 1597, in _readerthread\n",
      "    buffer.append(fh.read())\n",
      "                  ^^^^^^^^^\n",
      "  File \"<frozen codecs>\", line 322, in decode\n",
      "UnicodeDecodeError: 'utf-8' codec can't decode byte 0xbb in position 24: invalid start byte\n",
      "  File \"c:\\Users\\Allan\\anaconda3\\Lib\\site-packages\\joblib\\externals\\loky\\backend\\context.py\", line 202, in _count_physical_cores\n",
      "    cpu_info = cpu_info.stdout.splitlines()\n",
      "               ^^^^^^^^^^^^^^^^^^^^^^^^^^\n",
      "[clustimage] >INFO> Cluster evaluation using the [high] feature space of the [pca-hog] features.\n",
      "[clustimage] >INFO> Saving data in memory.\n",
      "[clustimage] >INFO> Fit with method=[agglomerative], metric=[euclidean], linkage=[ward]\n",
      "[clustimage] >INFO> Evaluate using silhouette.\n",
      "[clusteval] >INFO: 100%|██████████| 1/1 [00:00<00:00, 13.53it/s]\n",
      "[clustimage] >INFO> Compute dendrogram threshold.\n",
      "[clustimage] >INFO> Optimal number clusters detected: [45].\n",
      "[clustimage] >INFO> Fin.\n",
      "[clustimage] >INFO> Updating cluster-labels and cluster-model based on the (2889, 308) feature-space.\n"
     ]
    },
    {
     "data": {
      "text/plain": [
       "['./rawdata\\\\475_s.jpg',\n",
       " './rawdata\\\\897_s.jpg',\n",
       " './rawdata\\\\234_s.jpg',\n",
       " './rawdata\\\\293_s.jpg',\n",
       " './rawdata\\\\179_s.jpg',\n",
       " './rawdata\\\\677_s.jpg',\n",
       " './rawdata\\\\1004_s.jpg',\n",
       " './rawdata\\\\559_s.jpg',\n",
       " './rawdata\\\\609_W.jpg',\n",
       " './rawdata\\\\137_s.jpg',\n",
       " './rawdata\\\\1160_s.jpg',\n",
       " './rawdata\\\\161_s.jpg',\n",
       " './rawdata\\\\39_s.jpg',\n",
       " './rawdata\\\\112_s.jpg',\n",
       " './rawdata\\\\629_s.jpg',\n",
       " './rawdata\\\\961_W.jpg',\n",
       " './rawdata\\\\760_W.jpg',\n",
       " './rawdata\\\\526_c.jpg',\n",
       " './rawdata\\\\212_s.jpg',\n",
       " './rawdata\\\\1064_W.jpg',\n",
       " './rawdata\\\\441_W.jpg',\n",
       " './rawdata\\\\119_c.jpg',\n",
       " './rawdata\\\\966_W.jpg',\n",
       " './rawdata\\\\488_c.jpg',\n",
       " './rawdata\\\\696_W.jpg',\n",
       " './rawdata\\\\406_c.jpg',\n",
       " './rawdata\\\\900_W.jpg',\n",
       " './rawdata\\\\27_W.jpg',\n",
       " './rawdata\\\\1062_W.jpg',\n",
       " './rawdata\\\\726_s.jpg',\n",
       " './rawdata\\\\359_s.jpg',\n",
       " './rawdata\\\\416_W.jpg',\n",
       " './rawdata\\\\504_c.jpg',\n",
       " './rawdata\\\\706_W.jpg',\n",
       " './rawdata\\\\61_c.jpg',\n",
       " './rawdata\\\\871_W.jpg',\n",
       " './rawdata\\\\823_W.jpg',\n",
       " './rawdata\\\\205_s.jpg',\n",
       " './rawdata\\\\178_W.jpg',\n",
       " './rawdata\\\\465_c.jpg',\n",
       " './rawdata\\\\1004_W.jpg',\n",
       " './rawdata\\\\1010_W.jpg',\n",
       " './rawdata\\\\265_c.jpg',\n",
       " './rawdata\\\\300_c.jpg',\n",
       " './rawdata\\\\61_W.jpg']"
      ]
     },
     "execution_count": 2,
     "metadata": {},
     "output_type": "execute_result"
    }
   ],
   "source": [
    "pending_label_images = cluster_N_unique_image()\n",
    "pending_label_images"
   ]
  },
  {
   "cell_type": "code",
   "execution_count": 6,
   "metadata": {},
   "outputs": [
    {
     "name": "stdout",
     "output_type": "stream",
     "text": [
      "All image files have been moved successfully.\n"
     ]
    }
   ],
   "source": [
    "import os\n",
    "import shutil\n",
    "import random\n",
    "from pathlib import Path\n",
    "\n",
    "# 定义rawdata目录\n",
    "rawdata_dir = Path.cwd() / 'rawdata'\n",
    "\n",
    "# 待处理的图片列表\n",
    "pending_label_images = pending_label_images  # 这里填入你的图片路径列表\n",
    "\n",
    "# 创建子目录\n",
    "lb_dir = rawdata_dir / 'lb'\n",
    "lb_dir.mkdir(exist_ok=True)\n",
    "\n",
    "ulb_dir = rawdata_dir / 'ulb'\n",
    "ulb_dir.mkdir(exist_ok=True)\n",
    "\n",
    "test_dir = rawdata_dir / 'test'\n",
    "test_dir.mkdir(exist_ok=True)\n",
    "\n",
    "# 移动图片到lb子目录\n",
    "for img_path in pending_label_images:\n",
    "    img = Path(img_path)\n",
    "    shutil.move(str(img), str(lb_dir / img.name))\n",
    "\n",
    "# 获取rawdata目录下的所有图片文件\n",
    "all_images = list(rawdata_dir.glob(\"*.[jp][np][g]*\"))  # 匹配.jpg, .jpeg, .png, .gif等图片文件\n",
    "all_images = [img for img in all_images if str(img) not in pending_label_images]  # 剔除已处理的图片\n",
    "\n",
    "# 随机选择500张图片移动到ulb子目录\n",
    "for img in random.sample(all_images, 500):\n",
    "    shutil.move(str(img), str(ulb_dir / img.name))\n",
    "    all_images.remove(img)  # 从列表中移除已处理的图片\n",
    "\n",
    "# 随机选择50张图片移动到test子目录\n",
    "for img in random.sample(all_images, 50):\n",
    "    shutil.move(str(img), str(test_dir / img.name))\n",
    "\n",
    "print(\"All image files have been moved successfully.\")"
   ]
  }
 ],
 "metadata": {
  "kernelspec": {
   "display_name": "Python 3 (ipykernel)",
   "language": "python",
   "name": "python3"
  },
  "language_info": {
   "codemirror_mode": {
    "name": "ipython",
    "version": 3
   },
   "file_extension": ".py",
   "mimetype": "text/x-python",
   "name": "python",
   "nbconvert_exporter": "python",
   "pygments_lexer": "ipython3",
   "version": "3.11.4"
  }
 },
 "nbformat": 4,
 "nbformat_minor": 2
}
