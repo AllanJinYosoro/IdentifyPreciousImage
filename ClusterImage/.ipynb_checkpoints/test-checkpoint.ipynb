{
 "cells": [
  {
   "cell_type": "markdown",
   "metadata": {},
   "source": [
    "- pre-process images\n",
    "- extract features\n",
    "- group images with high similarity taking into account the goodness of the clustering"
   ]
  },
  {
   "cell_type": "markdown",
   "metadata": {},
   "source": [
    "Force to K clusters\n",
    "```\n",
    "# Set to 5 clusters\n",
    "labels = cl.cluster(min_clust=5, max_clust=5)\n",
    "\n",
    "# Check number of clusters\n",
    "len(np.unique(cl.results['labels']))\n",
    "# 5\n",
    "\n",
    "# Scatter\n",
    "cl.scatter(dotsize=75)\n",
    "# Create dendrogram\n",
    "cl.dendrogram();\n",
    "```"
   ]
  },
  {
   "cell_type": "markdown",
   "metadata": {},
   "source": [
    "函数参数\n",
    "clustNum : 输出unique图片个数 (cluster个数)\n",
    "\n",
    "函数输出 : list形式，包含clustNum个图片的名称"
   ]
  },
  {
   "cell_type": "code",
   "execution_count": 28,
   "metadata": {},
   "outputs": [],
   "source": [
    "#! pip install clustimage\n",
    "from clustimage import Clustimage\n",
    "\n",
    "def cluster_N_unique_image(clustNum = 45):\n",
    "    # Initialize\n",
    "    cl = Clustimage(method='pca-hog',\n",
    "                    embedding='tsne',\n",
    "                    grayscale=False,\n",
    "                    dim=(128,128),\n",
    "                    params_pca={'n_components':0.95})\n",
    "\n",
    "    # Import data by \"path to directory\"\n",
    "    X = cl.import_data('./rawdata')\n",
    "\n",
    "    # Preprocessing, feature extraction, embedding and cluster evaluation\n",
    "    results = cl.fit_transform(X,cluster='agglomerative',\n",
    "                    evaluate='silhouette',\n",
    "                    metric='euclidean',\n",
    "                    linkage='ward',\n",
    "                    cluster_space='high',\n",
    "                    min_clust = clustNum,\n",
    "                    max_clust = clustNum,\n",
    "                    )\n",
    "\n",
    "    # Get the unique detected images (in dict)\n",
    "    uniqueImage = cl.results_unique\n",
    "\n",
    "    # return 'pathnames' from uniqueImage and transform to list\n",
    "    uniqueImage_path = uniqueImage['pathnames']\n",
    "\n",
    "    # find '\\\\' in the pathnames, and return imgNames as a list\n",
    "    uniqueImage_name = []\n",
    "    for i in range(len(uniqueImage_path)):\n",
    "            last_backslash_index = uniqueImage_path[i].rfind('\\\\')\n",
    "            # replace the pathname list with imgNames\n",
    "            uniqueImage_name[i] = uniqueImage_path[i][last_backslash_index + 1:]\n",
    "\n",
    "    return uniqueImage_name"
   ]
  },
  {
   "cell_type": "code",
   "execution_count": 29,
   "metadata": {},
   "outputs": [
    {
     "name": "stderr",
     "output_type": "stream",
     "text": [
      "[clustimage] >WARNING> Parameter grayscale is set to True because you are using method=\"pca-hog\"\n",
      "[clustimage] >INFO> filepath is set to [C:\\Users\\Allan\\AppData\\Local\\Temp\\clustimage]\n",
      "[clustimage] >INFO> filepath is set to [C:\\Users\\Allan\\AppData\\Local\\Temp\\clustimage]\n",
      "[clustimage] >INFO> filepath is set to [C:\\Users\\Allan\\AppData\\Local\\Temp\\clustimage]\n",
      "[clustimage] >INFO> Extracting images from: [./rawdata]\n",
      "[clustimage] >INFO> [330] files are collected recursively from path: [./rawdata]\n",
      "[clustimage] >INFO> [330] images are extracted.\n",
      "[clustimage] >INFO> Reading and checking images.\n",
      "[clustimage] >INFO> Reading and checking images.\n",
      "[clustimage]: 100%|██████████████████████████████████████████████████████████████████| 330/330 [00:36<00:00,  9.00it/s]\n",
      "[clustimage] >INFO> Cleaning previous fitted model results\n",
      "[clustimage] >INFO> Reading and checking images.\n",
      "[clustimage] >INFO> Skipping import because import is already performed outside the fit_transform()\n",
      "[clustimage] >INFO> Extracting features using method: [pca-hog]\n",
      "[clustimage]: 100%|██████████████████████████████████████████████████████████████████| 330/330 [00:21<00:00, 15.53it/s]\n",
      "[clustimage] >INFO> Extracted features using [pca-hog]: samples=330, features=106\n",
      "[clustimage] >INFO> Compute [tsne] embedding\n",
      "[clustimage] >INFO> Cluster evaluation using the [high] feature space of the [pca-hog] features.\n",
      "[clustimage] >INFO> Saving data in memory.\n",
      "[clustimage] >INFO> Fit with method=[agglomerative], metric=[euclidean], linkage=[ward]\n",
      "[clustimage] >INFO> Evaluate using silhouette.\n",
      "[clusteval] >INFO: 100%|████████████████████████████████████████████████████████████████| 1/1 [00:00<00:00, 246.71it/s]\n",
      "[clustimage] >INFO> Compute dendrogram threshold.\n",
      "[clustimage] >INFO> Optimal number clusters detected: [45].\n",
      "[clustimage] >INFO> Fin.\n",
      "[clustimage] >INFO> Updating cluster-labels and cluster-model based on the (330, 106) feature-space.\n"
     ]
    },
    {
     "ename": "IndexError",
     "evalue": "list assignment index out of range",
     "output_type": "error",
     "traceback": [
      "\u001b[1;31m---------------------------------------------------------------------------\u001b[0m",
      "\u001b[1;31mIndexError\u001b[0m                                Traceback (most recent call last)",
      "Cell \u001b[1;32mIn[29], line 1\u001b[0m\n\u001b[1;32m----> 1\u001b[0m tem \u001b[38;5;241m=\u001b[39m cluster_N_unique_image()\n\u001b[0;32m      2\u001b[0m tem\n",
      "Cell \u001b[1;32mIn[28], line 36\u001b[0m, in \u001b[0;36mcluster_N_unique_image\u001b[1;34m(clustNum)\u001b[0m\n\u001b[0;32m     34\u001b[0m         last_backslash_index \u001b[38;5;241m=\u001b[39m uniqueImage_path[i]\u001b[38;5;241m.\u001b[39mrfind(\u001b[38;5;124m'\u001b[39m\u001b[38;5;130;01m\\\\\u001b[39;00m\u001b[38;5;124m'\u001b[39m)\n\u001b[0;32m     35\u001b[0m         \u001b[38;5;66;03m# replace the pathname list with imgNames\u001b[39;00m\n\u001b[1;32m---> 36\u001b[0m         uniqueImage_name[i] \u001b[38;5;241m=\u001b[39m uniqueImage_path[i][last_backslash_index \u001b[38;5;241m+\u001b[39m \u001b[38;5;241m1\u001b[39m:]\n\u001b[0;32m     38\u001b[0m \u001b[38;5;28;01mreturn\u001b[39;00m uniqueImage_name\n",
      "\u001b[1;31mIndexError\u001b[0m: list assignment index out of range"
     ]
    }
   ],
   "source": [
    "tem = cluster_N_unique_image()\n",
    "tem"
   ]
  }
 ],
 "metadata": {
  "kernelspec": {
   "display_name": "Python 3 (ipykernel)",
   "language": "python",
   "name": "python3"
  },
  "language_info": {
   "codemirror_mode": {
    "name": "ipython",
    "version": 3
   },
   "file_extension": ".py",
   "mimetype": "text/x-python",
   "name": "python",
   "nbconvert_exporter": "python",
   "pygments_lexer": "ipython3",
   "version": "3.11.4"
  }
 },
 "nbformat": 4,
 "nbformat_minor": 2
}
