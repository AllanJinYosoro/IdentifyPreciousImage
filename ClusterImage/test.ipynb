{
 "cells": [
  {
   "cell_type": "markdown",
   "metadata": {},
   "source": [
    "- pre-process images\n",
    "- extract features\n",
    "- group images with high similarity taking into account the goodness of the clustering"
   ]
  },
  {
   "cell_type": "markdown",
   "metadata": {},
   "source": [
    "Force to K clusters\n",
    "```\n",
    "# Set to 5 clusters\n",
    "labels = cl.cluster(min_clust=5, max_clust=5)\n",
    "\n",
    "# Check number of clusters\n",
    "len(np.unique(cl.results['labels']))\n",
    "# 5\n",
    "\n",
    "# Scatter\n",
    "cl.scatter(dotsize=75)\n",
    "# Create dendrogram\n",
    "cl.dendrogram();\n",
    "```"
   ]
  },
  {
   "cell_type": "markdown",
   "metadata": {},
   "source": [
    "函数参数\n",
    "clustNum : 输出unique图片个数 (cluster个数)\n",
    "\n",
    "函数输出 : list形式，包含clustNum个图片的名称"
   ]
  },
  {
   "cell_type": "code",
   "execution_count": 4,
   "metadata": {},
   "outputs": [],
   "source": [
    "#! pip install clustimage\n",
    "from clustimage import Clustimage\n",
    "import os \n",
    "\n",
    "def cluster_N_unique_image(clustNum = 45):\n",
    "    # Initialize\n",
    "    cl = Clustimage(method='pca-hog',\n",
    "                    embedding='tsne',\n",
    "                    grayscale=False,\n",
    "                    dim=(128,128),\n",
    "                    params_pca={'n_components':0.95})\n",
    "\n",
    "    # Import data by \"path to directory\"\n",
    "    X = cl.import_data('./rawdata')\n",
    "\n",
    "    # Preprocessing, feature extraction, embedding and cluster evaluation\n",
    "    results = cl.fit_transform(X,cluster='agglomerative',\n",
    "                    evaluate='silhouette',\n",
    "                    metric='euclidean',\n",
    "                    linkage='ward',\n",
    "                    cluster_space='high',\n",
    "                    min_clust = clustNum,\n",
    "                    max_clust = clustNum,\n",
    "                    )\n",
    "\n",
    "    # Get the unique detected images (in dict)\n",
    "    uniqueImage = cl.results_unique\n",
    "\n",
    "    # return 'pathnames' from uniqueImage and transform to list\n",
    "    uniqueImage_path = uniqueImage['pathnames']\n",
    "\n",
    "\n",
    "    return uniqueImage_path"
   ]
  },
  {
   "cell_type": "code",
   "execution_count": 5,
   "metadata": {},
   "outputs": [
    {
     "name": "stderr",
     "output_type": "stream",
     "text": [
      "[clustimage] >WARNING> Parameter grayscale is set to True because you are using method=\"pca-hog\"\n",
      "[clustimage] >INFO> filepath is set to [C:\\Users\\Allan\\AppData\\Local\\Temp\\clustimage]\n",
      "[clustimage] >INFO> filepath is set to [C:\\Users\\Allan\\AppData\\Local\\Temp\\clustimage]\n",
      "[clustimage] >INFO> filepath is set to [C:\\Users\\Allan\\AppData\\Local\\Temp\\clustimage]\n",
      "[clustimage] >INFO> Extracting images from: [./rawdata]\n",
      "[clustimage] >INFO> [2889] files are collected recursively from path: [./rawdata]\n",
      "[clustimage] >INFO> [2889] images are extracted.\n",
      "[clustimage] >INFO> Reading and checking images.\n",
      "[clustimage] >INFO> Reading and checking images.\n",
      "[clustimage]: 100%|██████████| 2889/2889 [06:29<00:00,  7.42it/s]\n",
      "[clustimage] >INFO> Cleaning previous fitted model results\n",
      "[clustimage] >INFO> Reading and checking images.\n",
      "[clustimage] >INFO> Skipping import because import is already performed outside the fit_transform()\n",
      "[clustimage] >INFO> Extracting features using method: [pca-hog]\n",
      "[clustimage]: 100%|██████████| 2889/2889 [02:18<00:00, 20.82it/s]\n",
      "[clustimage] >INFO> Extracted features using [pca-hog]: samples=2889, features=265\n",
      "[clustimage] >INFO> Compute [tsne] embedding\n",
      "[clustimage] >INFO> Cluster evaluation using the [high] feature space of the [pca-hog] features.\n",
      "[clustimage] >INFO> Saving data in memory.\n",
      "[clustimage] >INFO> Fit with method=[agglomerative], metric=[euclidean], linkage=[ward]\n",
      "[clustimage] >INFO> Evaluate using silhouette.\n",
      "[clusteval] >INFO: 100%|██████████| 1/1 [00:00<00:00, 11.70it/s]\n",
      "[clustimage] >INFO> Compute dendrogram threshold.\n",
      "[clustimage] >INFO> Optimal number clusters detected: [45].\n",
      "[clustimage] >INFO> Fin.\n",
      "[clustimage] >INFO> Updating cluster-labels and cluster-model based on the (2889, 265) feature-space.\n"
     ]
    },
    {
     "data": {
      "text/plain": [
       "['./rawdata\\\\jxh\\\\Screenshots\\\\305.jpg',\n",
       " './rawdata\\\\jxh\\\\Screenshots\\\\413.jpg',\n",
       " './rawdata\\\\jxh\\\\Screenshots\\\\304.jpg',\n",
       " './rawdata\\\\jxh\\\\Screenshots\\\\276.jpg',\n",
       " './rawdata\\\\jxh\\\\WeiXin\\\\163.jpg',\n",
       " './rawdata\\\\jxh\\\\Screenshots\\\\794.jpg',\n",
       " './rawdata\\\\jxh\\\\Screenshots\\\\1192.jpg',\n",
       " './rawdata\\\\jxh\\\\Screenshots\\\\652.jpg',\n",
       " './rawdata\\\\jxh\\\\Screenshots\\\\1062.jpg',\n",
       " './rawdata\\\\jxh\\\\WeiXin\\\\578.jpg',\n",
       " './rawdata\\\\jxh\\\\WeiXin\\\\609.jpg',\n",
       " './rawdata\\\\jxh\\\\Screenshots\\\\628.jpg',\n",
       " './rawdata\\\\jxh\\\\Screenshots\\\\1218.jpg',\n",
       " './rawdata\\\\jxh\\\\Screenshots\\\\87.jpg',\n",
       " './rawdata\\\\jxh\\\\Screenshots\\\\453.jpg',\n",
       " './rawdata\\\\jxh\\\\WeiXin\\\\298.jpg',\n",
       " './rawdata\\\\jxh\\\\Screenshots\\\\119.jpg',\n",
       " './rawdata\\\\jxh\\\\WeiXin\\\\399.jpg',\n",
       " './rawdata\\\\jxh\\\\Camera\\\\247.jpg',\n",
       " './rawdata\\\\jxh\\\\WeiXin\\\\427.jpg',\n",
       " './rawdata\\\\jxh\\\\WeiXin\\\\417.jpg',\n",
       " './rawdata\\\\jxh\\\\WeiXin\\\\439.jpg',\n",
       " './rawdata\\\\jxh\\\\WeiXin\\\\22.jpg',\n",
       " './rawdata\\\\jxh\\\\WeiXin\\\\692.jpg',\n",
       " './rawdata\\\\jxh\\\\WeiXin\\\\13.jpg',\n",
       " './rawdata\\\\jxh\\\\Camera\\\\421.jpg',\n",
       " './rawdata\\\\jxh\\\\Camera\\\\452.jpg',\n",
       " './rawdata\\\\jxh\\\\WeiXin\\\\139.jpg',\n",
       " './rawdata\\\\jxh\\\\Camera\\\\101.jpg',\n",
       " './rawdata\\\\jxh\\\\Camera\\\\255.jpg',\n",
       " './rawdata\\\\jxh\\\\Camera\\\\161.jpg',\n",
       " './rawdata\\\\jxh\\\\WeiXin\\\\411.jpg',\n",
       " './rawdata\\\\jxh\\\\Camera\\\\299.jpg',\n",
       " './rawdata\\\\jxh\\\\Screenshots\\\\766.jpg',\n",
       " './rawdata\\\\jxh\\\\Camera\\\\160.jpg',\n",
       " './rawdata\\\\jxh\\\\Camera\\\\137.jpg',\n",
       " './rawdata\\\\jxh\\\\Screenshots\\\\721.jpg',\n",
       " './rawdata\\\\jxh\\\\Camera\\\\85.jpg',\n",
       " './rawdata\\\\jxh\\\\WeiXin\\\\944.jpg',\n",
       " './rawdata\\\\jxh\\\\Camera\\\\406.jpg',\n",
       " './rawdata\\\\jxh\\\\Camera\\\\530.jpg',\n",
       " './rawdata\\\\jxh\\\\Screenshots\\\\464.jpg',\n",
       " './rawdata\\\\jxh\\\\WeiXin\\\\355.jpg',\n",
       " './rawdata\\\\jxh\\\\Screenshots\\\\208.jpg',\n",
       " './rawdata\\\\jxh\\\\WeiXin\\\\981.jpg']"
      ]
     },
     "execution_count": 5,
     "metadata": {},
     "output_type": "execute_result"
    }
   ],
   "source": [
    "pending_label_images = cluster_N_unique_image()\n",
    "pending_label_images"
   ]
  },
  {
   "cell_type": "code",
   "execution_count": 14,
   "metadata": {},
   "outputs": [
    {
     "name": "stdout",
     "output_type": "stream",
     "text": [
      "已成功移动400张图片到 ./test\n"
     ]
    }
   ],
   "source": [
    "import os\n",
    "import shutil\n",
    "import random\n",
    "\n",
    "# 设置源文件夹和目标文件夹\n",
    "source_folder = './rawdata'  # 替换为源图片文件夹的路径\n",
    "target_folder = './test'\n",
    "\n",
    "# 确保目标文件夹存在\n",
    "if not os.path.exists(target_folder):\n",
    "    os.makedirs(target_folder)\n",
    "\n",
    "# 获取源文件夹中所有图片文件的列表\n",
    "image_files = [f for f in os.listdir(source_folder) if os.path.isfile(os.path.join(source_folder, f)) and f.lower().endswith(('.png', '.jpg', '.jpeg', '.gif', '.bmp'))]\n",
    "\n",
    "# 检查是否有足够的图片文件\n",
    "if len(image_files) < 50:\n",
    "    print(\"源文件夹中没有足够的图片来选择400张。\")\n",
    "else:\n",
    "    # 随机选择400张图片\n",
    "    selected_images = random.sample(image_files, 50)\n",
    "\n",
    "    # 移动选中的图片到目标文件夹\n",
    "    for image in selected_images:\n",
    "        shutil.move(os.path.join(source_folder, image), os.path.join(target_folder, image))\n",
    "\n",
    "    print(\"已成功移动400张图片到\", target_folder)\n"
   ]
  }
 ],
 "metadata": {
  "kernelspec": {
   "display_name": "Python 3 (ipykernel)",
   "language": "python",
   "name": "python3"
  },
  "language_info": {
   "codemirror_mode": {
    "name": "ipython",
    "version": 3
   },
   "file_extension": ".py",
   "mimetype": "text/x-python",
   "name": "python",
   "nbconvert_exporter": "python",
   "pygments_lexer": "ipython3",
   "version": "3.11.4"
  }
 },
 "nbformat": 4,
 "nbformat_minor": 2
}
