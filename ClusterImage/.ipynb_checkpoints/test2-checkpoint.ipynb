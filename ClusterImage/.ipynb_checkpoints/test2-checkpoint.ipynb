{
 "cells": [
  {
   "cell_type": "code",
   "execution_count": 1,
   "metadata": {},
   "outputs": [
    {
     "name": "stderr",
     "output_type": "stream",
     "text": [
      "[clustimage] >INFO> Import dataset [mnist]\n",
      "[clustimage] >INFO> Downloading [mnist_images.zip] dataset from github source..\n",
      "[clustimage] >INFO> Cleaning previous fitted model results\n",
      "[clustimage] >INFO> Reading and checking images.\n",
      "[clustimage] >INFO> Extracting features using method: [pca]\n"
     ]
    },
    {
     "ename": "AttributeError",
     "evalue": "'NoneType' object has no attribute 'shape'",
     "output_type": "error",
     "traceback": [
      "\u001b[1;31m---------------------------------------------------------------------------\u001b[0m",
      "\u001b[1;31mAttributeError\u001b[0m                            Traceback (most recent call last)",
      "Cell \u001b[1;32mIn[1], line 30\u001b[0m\n\u001b[0;32m     13\u001b[0m X \u001b[38;5;241m=\u001b[39m cl\u001b[38;5;241m.\u001b[39mimport_example(data\u001b[38;5;241m=\u001b[39m\u001b[38;5;124m'\u001b[39m\u001b[38;5;124mmnist\u001b[39m\u001b[38;5;124m'\u001b[39m)\n\u001b[0;32m     15\u001b[0m \u001b[38;5;66;03m# There are 1797 digits in total, each with 64 features which is the flattened 8x8 grayscale image.\u001b[39;00m\n\u001b[0;32m     16\u001b[0m \u001b[38;5;66;03m# print(X.shape)\u001b[39;00m\n\u001b[0;32m     17\u001b[0m \u001b[38;5;66;03m# (1797, 64)\u001b[39;00m\n\u001b[1;32m   (...)\u001b[0m\n\u001b[0;32m     28\u001b[0m \u001b[38;5;66;03m# Preprocessing, feature extraction, embedding and cluster evaluation\u001b[39;00m\n\u001b[0;32m     29\u001b[0m \u001b[38;5;66;03m# results = cl.fit_transform(X)\u001b[39;00m\n\u001b[1;32m---> 30\u001b[0m results \u001b[38;5;241m=\u001b[39m cl\u001b[38;5;241m.\u001b[39mfit_transform(X,\n\u001b[0;32m     31\u001b[0m                            cluster\u001b[38;5;241m=\u001b[39m\u001b[38;5;124m'\u001b[39m\u001b[38;5;124magglomerative\u001b[39m\u001b[38;5;124m'\u001b[39m,\n\u001b[0;32m     32\u001b[0m                            evaluate\u001b[38;5;241m=\u001b[39m\u001b[38;5;124m'\u001b[39m\u001b[38;5;124msilhouette\u001b[39m\u001b[38;5;124m'\u001b[39m,\n\u001b[0;32m     33\u001b[0m                            metric\u001b[38;5;241m=\u001b[39m\u001b[38;5;124m'\u001b[39m\u001b[38;5;124meuclidean\u001b[39m\u001b[38;5;124m'\u001b[39m,\n\u001b[0;32m     34\u001b[0m                            linkage\u001b[38;5;241m=\u001b[39m\u001b[38;5;124m'\u001b[39m\u001b[38;5;124mward\u001b[39m\u001b[38;5;124m'\u001b[39m,\n\u001b[0;32m     35\u001b[0m                            min_clust\u001b[38;5;241m=\u001b[39m\u001b[38;5;241m3\u001b[39m,\n\u001b[0;32m     36\u001b[0m                            max_clust\u001b[38;5;241m=\u001b[39m\u001b[38;5;241m25\u001b[39m,\n\u001b[0;32m     37\u001b[0m                            cluster_space\u001b[38;5;241m=\u001b[39m\u001b[38;5;124m'\u001b[39m\u001b[38;5;124mhigh\u001b[39m\u001b[38;5;124m'\u001b[39m)\n",
      "File \u001b[1;32m~\\anaconda3\\Lib\\site-packages\\clustimage\\clustimage.py:351\u001b[0m, in \u001b[0;36mClustimage.fit_transform\u001b[1;34m(self, X, cluster, evaluate, metric, linkage, min_clust, max_clust, cluster_space, black_list)\u001b[0m\n\u001b[0;32m    349\u001b[0m _ \u001b[38;5;241m=\u001b[39m \u001b[38;5;28mself\u001b[39m\u001b[38;5;241m.\u001b[39mimport_data(X, black_list\u001b[38;5;241m=\u001b[39mblack_list)\n\u001b[0;32m    350\u001b[0m \u001b[38;5;66;03m# Extract features using method\u001b[39;00m\n\u001b[1;32m--> 351\u001b[0m _ \u001b[38;5;241m=\u001b[39m \u001b[38;5;28mself\u001b[39m\u001b[38;5;241m.\u001b[39mextract_feat(\u001b[38;5;28mself\u001b[39m\u001b[38;5;241m.\u001b[39mresults)\n\u001b[0;32m    352\u001b[0m \u001b[38;5;66;03m# Embedding\u001b[39;00m\n\u001b[0;32m    353\u001b[0m _ \u001b[38;5;241m=\u001b[39m \u001b[38;5;28mself\u001b[39m\u001b[38;5;241m.\u001b[39membedding(\u001b[38;5;28mself\u001b[39m\u001b[38;5;241m.\u001b[39mresults[\u001b[38;5;124m'\u001b[39m\u001b[38;5;124mfeat\u001b[39m\u001b[38;5;124m'\u001b[39m], metric\u001b[38;5;241m=\u001b[39mmetric)\n",
      "File \u001b[1;32m~\\anaconda3\\Lib\\site-packages\\clustimage\\clustimage.py:1121\u001b[0m, in \u001b[0;36mClustimage.extract_feat\u001b[1;34m(self, Xraw)\u001b[0m\n\u001b[0;32m   1119\u001b[0m \u001b[38;5;66;03m# Extract features\u001b[39;00m\n\u001b[0;32m   1120\u001b[0m \u001b[38;5;28;01mif\u001b[39;00m \u001b[38;5;28mself\u001b[39m\u001b[38;5;241m.\u001b[39mparams[\u001b[38;5;124m'\u001b[39m\u001b[38;5;124mmethod\u001b[39m\u001b[38;5;124m'\u001b[39m]\u001b[38;5;241m==\u001b[39m\u001b[38;5;124m'\u001b[39m\u001b[38;5;124mpca\u001b[39m\u001b[38;5;124m'\u001b[39m:\n\u001b[1;32m-> 1121\u001b[0m     Xfeat \u001b[38;5;241m=\u001b[39m \u001b[38;5;28mself\u001b[39m\u001b[38;5;241m.\u001b[39mextract_pca(Xraw)\n\u001b[0;32m   1122\u001b[0m \u001b[38;5;28;01melif\u001b[39;00m \u001b[38;5;28mself\u001b[39m\u001b[38;5;241m.\u001b[39mparams[\u001b[38;5;124m'\u001b[39m\u001b[38;5;124mmethod\u001b[39m\u001b[38;5;124m'\u001b[39m]\u001b[38;5;241m==\u001b[39m\u001b[38;5;124m'\u001b[39m\u001b[38;5;124mhog\u001b[39m\u001b[38;5;124m'\u001b[39m:\n\u001b[0;32m   1123\u001b[0m     Xfeat \u001b[38;5;241m=\u001b[39m \u001b[38;5;28mself\u001b[39m\u001b[38;5;241m.\u001b[39mextract_hog(Xraw[\u001b[38;5;124m'\u001b[39m\u001b[38;5;124mimg\u001b[39m\u001b[38;5;124m'\u001b[39m], orientations\u001b[38;5;241m=\u001b[39m\u001b[38;5;28mself\u001b[39m\u001b[38;5;241m.\u001b[39mparams_hog[\u001b[38;5;124m'\u001b[39m\u001b[38;5;124morientations\u001b[39m\u001b[38;5;124m'\u001b[39m], pixels_per_cell\u001b[38;5;241m=\u001b[39m\u001b[38;5;28mself\u001b[39m\u001b[38;5;241m.\u001b[39mparams_hog[\u001b[38;5;124m'\u001b[39m\u001b[38;5;124mpixels_per_cell\u001b[39m\u001b[38;5;124m'\u001b[39m], cells_per_block\u001b[38;5;241m=\u001b[39m\u001b[38;5;28mself\u001b[39m\u001b[38;5;241m.\u001b[39mparams_hog[\u001b[38;5;124m'\u001b[39m\u001b[38;5;124mcells_per_block\u001b[39m\u001b[38;5;124m'\u001b[39m])\n",
      "File \u001b[1;32m~\\anaconda3\\Lib\\site-packages\\clustimage\\clustimage.py:911\u001b[0m, in \u001b[0;36mClustimage.extract_pca\u001b[1;34m(self, X)\u001b[0m\n\u001b[0;32m    897\u001b[0m \u001b[38;5;250m\u001b[39m\u001b[38;5;124;03m\"\"\"Extract Principal Components.\u001b[39;00m\n\u001b[0;32m    898\u001b[0m \n\u001b[0;32m    899\u001b[0m \u001b[38;5;124;03mParameters\u001b[39;00m\n\u001b[1;32m   (...)\u001b[0m\n\u001b[0;32m    908\u001b[0m \n\u001b[0;32m    909\u001b[0m \u001b[38;5;124;03m\"\"\"\u001b[39;00m\n\u001b[0;32m    910\u001b[0m \u001b[38;5;66;03m# Check whether n_components is ok\u001b[39;00m\n\u001b[1;32m--> 911\u001b[0m \u001b[38;5;28;01mif\u001b[39;00m \u001b[38;5;28mself\u001b[39m\u001b[38;5;241m.\u001b[39mparams_pca[\u001b[38;5;124m'\u001b[39m\u001b[38;5;124mn_components\u001b[39m\u001b[38;5;124m'\u001b[39m]\u001b[38;5;241m>\u001b[39mX[\u001b[38;5;124m'\u001b[39m\u001b[38;5;124mimg\u001b[39m\u001b[38;5;124m'\u001b[39m]\u001b[38;5;241m.\u001b[39mshape[\u001b[38;5;241m0\u001b[39m]:\n\u001b[0;32m    912\u001b[0m     logger\u001b[38;5;241m.\u001b[39mwarning(\u001b[38;5;124m'\u001b[39m\u001b[38;5;124mn_components should be smaller then the number of samples: \u001b[39m\u001b[38;5;132;01m%s\u001b[39;00m\u001b[38;5;124m<\u001b[39m\u001b[38;5;132;01m%s\u001b[39;00m\u001b[38;5;124m. Set as following during init: params_pca=\u001b[39m\u001b[38;5;124m{\u001b[39m\u001b[38;5;124m\"\u001b[39m\u001b[38;5;124mn_components\u001b[39m\u001b[38;5;124m\"\u001b[39m\u001b[38;5;124m:\u001b[39m\u001b[38;5;132;01m%s\u001b[39;00m\u001b[38;5;124m} \u001b[39m\u001b[38;5;124m'\u001b[39m \u001b[38;5;241m%\u001b[39m(X[\u001b[38;5;124m'\u001b[39m\u001b[38;5;124mimg\u001b[39m\u001b[38;5;124m'\u001b[39m]\u001b[38;5;241m.\u001b[39mshape[\u001b[38;5;241m0\u001b[39m], \u001b[38;5;28mself\u001b[39m\u001b[38;5;241m.\u001b[39mparams_pca[\u001b[38;5;124m'\u001b[39m\u001b[38;5;124mn_components\u001b[39m\u001b[38;5;124m'\u001b[39m], X[\u001b[38;5;124m'\u001b[39m\u001b[38;5;124mimg\u001b[39m\u001b[38;5;124m'\u001b[39m]\u001b[38;5;241m.\u001b[39mshape[\u001b[38;5;241m0\u001b[39m]))\n\u001b[0;32m    913\u001b[0m     \u001b[38;5;28mself\u001b[39m\u001b[38;5;241m.\u001b[39mparams_pca[\u001b[38;5;124m'\u001b[39m\u001b[38;5;124mn_components\u001b[39m\u001b[38;5;124m'\u001b[39m] \u001b[38;5;241m=\u001b[39m X[\u001b[38;5;124m'\u001b[39m\u001b[38;5;124mimg\u001b[39m\u001b[38;5;124m'\u001b[39m]\u001b[38;5;241m.\u001b[39mshape[\u001b[38;5;241m0\u001b[39m]\n",
      "\u001b[1;31mAttributeError\u001b[0m: 'NoneType' object has no attribute 'shape'"
     ]
    }
   ],
   "source": [
    "# Import library\n",
    "from clustimage import Clustimage\n",
    "\n",
    "# init with PCA method\n",
    "# cl = Clustimage(method='pca')\n",
    "cl = Clustimage(method='pca',\n",
    "                embedding='tsne',\n",
    "                grayscale=False,\n",
    "                dim=(128,128),\n",
    "                params_pca={'n_components':0.95})\n",
    "\n",
    "# Load MNIST example data\n",
    "X = cl.import_example(data='mnist')\n",
    "\n",
    "# There are 1797 digits in total, each with 64 features which is the flattened 8x8 grayscale image.\n",
    "# print(X.shape)\n",
    "# (1797, 64)\n",
    "\n",
    "# print(X)\n",
    "# array([[ 0.,  0.,  5., ...,  0.,  0.,  0.],\n",
    "#        [ 0.,  0.,  0., ..., 10.,  0.,  0.],\n",
    "#        [ 0.,  0.,  0., ..., 16.,  9.,  0.],\n",
    "#        ...,\n",
    "#        [ 0.,  0.,  1., ...,  6.,  0.,  0.],\n",
    "#        [ 0.,  0.,  2., ..., 12.,  0.,  0.],\n",
    "#        [ 0.,  0., 10., ..., 12.,  1.,  0.]])\n",
    "\n",
    "# Preprocessing, feature extraction, embedding and cluster evaluation\n",
    "# results = cl.fit_transform(X)\n",
    "results = cl.fit_transform(X,\n",
    "                           cluster='agglomerative',\n",
    "                           evaluate='silhouette',\n",
    "                           metric='euclidean',\n",
    "                           linkage='ward',\n",
    "                           min_clust=3,\n",
    "                           max_clust=25,\n",
    "                           cluster_space='high')\n"
   ]
  },
  {
   "cell_type": "code",
   "execution_count": null,
   "metadata": {},
   "outputs": [],
   "source": [
    "# Results are stored as a dictionary:\n",
    "cl.results.keys()\n",
    "\n",
    "# 'feat'      : Extracted features.\n",
    "# 'xycoord'   : The X and Y coordinates from tSNE embedding\n",
    "# 'pathnames' : The path locations of the processed images\n",
    "# 'filenames' : The filename of the image\n",
    "# 'labels'    : The cluster labels"
   ]
  },
  {
   "cell_type": "code",
   "execution_count": null,
   "metadata": {},
   "outputs": [],
   "source": [
    "# Silhouette plots\n",
    "cl.clusteval.plot()\n",
    "cl.clusteval.scatter(cl.results['xycoord'])\n",
    "\n",
    "# PCA explained variance plot\n",
    "cl.pca.plot()\n",
    "\n",
    "# Dendrogram\n",
    "cl.dendrogram()\n",
    "\n",
    "# Plot unique image per cluster\n",
    "cl.plot_unique(img_mean=False)\n",
    "\n",
    "# Scatterplot\n",
    "cl.scatter(zoom=3, img_mean=False)\n",
    "cl.scatter(zoom=None, img_mean=False)\n",
    "\n",
    "# Plot images per cluster or all clusters\n",
    "cl.plot(cmap='binary', labels=[1,2])\n",
    "cl.plot(cmap='binary')"
   ]
  }
 ],
 "metadata": {
  "kernelspec": {
   "display_name": "Python 3 (ipykernel)",
   "language": "python",
   "name": "python3"
  },
  "language_info": {
   "codemirror_mode": {
    "name": "ipython",
    "version": 3
   },
   "file_extension": ".py",
   "mimetype": "text/x-python",
   "name": "python",
   "nbconvert_exporter": "python",
   "pygments_lexer": "ipython3",
   "version": "3.11.4"
  }
 },
 "nbformat": 4,
 "nbformat_minor": 2
}
